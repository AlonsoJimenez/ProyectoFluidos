{
 "cells": [
  {
   "cell_type": "markdown",
   "id": "f42eb167",
   "metadata": {},
   "source": [
    "# Proyecto Fluidos"
   ]
  },
  {
   "cell_type": "code",
   "execution_count": 3,
   "id": "7d815167",
   "metadata": {},
   "outputs": [
    {
     "name": "stderr",
     "output_type": "stream",
     "text": [
      "Enabling notebook extension jupyter-js-widgets/extension...\n",
      "      - Validating: ok\n",
      "Enabling: voila\n",
      "- Writing config: C:\\Users\\alons\\anaconda3\\etc\\jupyter\n",
      "    - Validating...\n",
      "      voila 0.2.16 ok\n"
     ]
    }
   ],
   "source": [
    "import warnings\n",
    "warnings.filterwarnings('ignore')\n",
    "\n",
    "!jupyter nbextension enable --py widgetsnbextension --sys-prefix\n",
    "!jupyter serverextension enable voila --sys-prefix\n",
    "\n",
    "from matplotlib import container\n",
    "from numpy.lib import info\n",
    "from IPython.display import HTML\n",
    "from IPython.display import display\n",
    "\n",
    "from ipywidgets import interactive\n",
    "import ipywidgets as widgets\n",
    "import numpy as np\n",
    "import math\n",
    "import matplotlib.pyplot as plt\n",
    "import matplotlib.patches as patches\n",
    "import matplotlib.image as img\n",
    "from matplotlib.offsetbox import  AnnotationBbox, OffsetImage\n",
    "\n",
    "\n",
    "\n",
    "tag = HTML('''<script>\n",
    "code_show=false; \n",
    "function code_toggle() {\n",
    "    if (code_show){\n",
    "        $('div.cell.code_cell.rendered.selected div.input').hide();\n",
    "    } else {\n",
    "        $('div.cell.code_cell.rendered.selected div.input').show();\n",
    "    }\n",
    "    code_show = !code_show\n",
    "} \n",
    "\n",
    "$( document ).ready(code_toggle);\n",
    "</script>\n",
    "\n",
    "Para mostrar/ocultar código presione <a href=\"javascript:code_toggle()\">aquí</a>.''')\n",
    "\n",
    "\n",
    "def potencia(diametro, tiempoLlenado, volumen):\n",
    "    return 55\n",
    "\n",
    "def velocidad(diametro, volumen, tiempoLlenado):\n",
    "    return 25\n",
    "\n",
    "def volumenLlenado(velocidad, tiempo):\n",
    "    return 100\n",
    "\n",
    "\n",
    "\n",
    "def graficas():\n",
    "    \n",
    "    display (tag)\n",
    "    \n",
    "    def GraficoInteractivoGeneral(diametro, volumen, tiempoLlenado, tiempo):\n",
    "\n",
    "      potProb = potencia(diametro, tiempoLlenado, volumen)\n",
    "      velProb = velocidad(diametro, volumen, tiempoLlenado)\n",
    "      volProb = volumenLlenado(velocidad, tiempo)\n",
    "\n",
    "\n",
    "      fig,ax1 = plt.subplots ()\n",
    "\n",
    "      ax1.set_title('Valores del problema')\n",
    "      ax1.bar(['Potencia $(W)$', 'Velocidad salida $(m/s)$', 'Volumen llenado $(%)$'], [potProb, velProb, volProb])\n",
    "      ax1.set_ylim([0, 100])  \n",
    "\n",
    "      plt.show()\n",
    "\n",
    "      return\n",
    "\n",
    "\n",
    "    diametroTuboEtiqueta = widgets.Label (value=\"Diametro tubería $(m)$:\")\n",
    "    diametroTuboSlider = widgets.FloatSlider(min=1, max=5, step=0.1, value=0.0)\n",
    "    cajaDiametroTubo = widgets.HBox([diametroTuboEtiqueta, diametroTuboSlider])\n",
    "\n",
    "    tiempoLlenadoEtiqueta = widgets.Label (value=\"Tiempo llenado $(h)$:\")\n",
    "    tiempoLlenadoSlider = widgets.FloatSlider(min=1, max=10, step=0.01, value=0.0)\n",
    "    cajaTiempoLlenado = widgets.HBox([tiempoLlenadoEtiqueta, tiempoLlenadoSlider])\n",
    "\n",
    "    volumenEtiqueta = widgets.Label (value=\"Volumen a llenar $(m^3)$:\")\n",
    "    volumenSlider = widgets.FloatSlider(min=0, max=10, step=0.01, value=0.0)\n",
    "    cajaVolumen = widgets.HBox([volumenEtiqueta, volumenSlider])\n",
    "\n",
    "    play = widgets.Play(value=0, min=0, max=tiempoLlenadoSlider.value, step=0.1, disabled=False)\n",
    "    tieEtiqueta = widgets.Label (value=\"Tiempo $(h)$:\")\n",
    "    tieSlider = widgets.FloatSlider(min=0, max=tiempoLlenadoSlider.value,)\n",
    "    widgets.jslink((play, 'value'), (tieSlider, 'value'))\n",
    "    cajaTiempo = widgets.HBox([tieEtiqueta, tieSlider])\n",
    "\n",
    "    salida = widgets.interactive_output(GraficoInteractivoGeneral, {'diametro':diametroTuboSlider,\n",
    "                                                                  'volumen':volumenSlider,\n",
    "                                                                  'tiempoLlenado': tiempoLlenadoSlider,\n",
    "                                                                  'tiempo':tieSlider})\n",
    "\n",
    "    display(cajaDiametroTubo, cajaTiempoLlenado, cajaVolumen, cajaTiempo, play, salida)"
   ]
  },
  {
   "cell_type": "markdown",
   "id": "69c72094",
   "metadata": {},
   "source": [
    "## Estudiantes: "
   ]
  },
  {
   "cell_type": "markdown",
   "id": "0c9044a8",
   "metadata": {},
   "source": [
    "### Kevin Porras Alpízar (2019204781)"
   ]
  },
  {
   "cell_type": "markdown",
   "id": "ab448bd5",
   "metadata": {},
   "source": [
    "### Alejandro Huertas Sánchez (200833147)"
   ]
  },
  {
   "cell_type": "markdown",
   "id": "ac128d51",
   "metadata": {},
   "source": [
    "### Alonso Jiménez Moya (2019031476)"
   ]
  },
  {
   "cell_type": "markdown",
   "id": "66f851fa",
   "metadata": {},
   "source": [
    "### Fernando Monge Sánchez (2019160311)"
   ]
  },
  {
   "cell_type": "markdown",
   "id": "212c1704",
   "metadata": {},
   "source": [
    "El proyecto realizado por los estudiantes consta del siguiente enunciado principal sobre un sistema hidraulico con intención de brindar agua a una lechería para fines comerciales:\n",
    "\n",
    "\n",
    "Para el proyecto de Mecánica de Fluidos los estudiantes plantean realizar un diseño de un sistema hidráulico con la intención de dar solución a la necesidad de dotación de agua para una lechería que se encuentra a 22 m de altura sobre al tanque de agua potable y con una distancia horizontal de 36 m, para esto se deberá tomar en cuenta recomendaciones y reglamentos del CFIA. \n",
    "Se planteará un sistema hidráulico para una lechería que cuenta con 30 vacas en sus territorios, por tal se deberá calcular el caudal que requiere para su debido funcionamiento, según establece el “Código de instalaciones hidráulicas y sanitarias en edificaciones”. La necesidad de agua es equivalente a 120 litros diarios por animal, por tal motivo, la lechería deberá contar con un tanque de, mínimo, 3600 litros de capacidad, el cual será llenado diariamente por las madrugadas, específicamente hablando a las 2:30 am, y durará un aproximado de 4 horas para lograr completar los 3600 litros.\n",
    "Para la elaboración de este sistema, se necesitará de los siguientes materiales:\n",
    "\n",
    "\n",
    "•\t5 tubos PVC (3 de una longitud de 12 m y otros 2 de 11 m)\n",
    "\n",
    "•\t3 codos de 90° (Cambio de dirección del fluido)\n",
    "\n",
    "•\tBomba hidráulica (Encargada de suministrar la potencia al fluido)\n",
    "\n",
    "•\tVálvula de bola (Encargada de cerrar la tubería) \n",
    "\n",
    "![SegmentLocal](FotoProyecto.png)"
   ]
  },
  {
   "cell_type": "code",
   "execution_count": 2,
   "id": "d78f1b74",
   "metadata": {},
   "outputs": [
    {
     "data": {
      "text/html": [
       "<script>\n",
       "code_show=false; \n",
       "function code_toggle() {\n",
       "    if (code_show){\n",
       "        $('div.cell.code_cell.rendered.selected div.input').hide();\n",
       "    } else {\n",
       "        $('div.cell.code_cell.rendered.selected div.input').show();\n",
       "    }\n",
       "    code_show = !code_show\n",
       "} \n",
       "\n",
       "$( document ).ready(code_toggle);\n",
       "</script>\n",
       "\n",
       "Para mostrar/ocultar código presione <a href=\"javascript:code_toggle()\">aquí</a>."
      ],
      "text/plain": [
       "<IPython.core.display.HTML object>"
      ]
     },
     "metadata": {},
     "output_type": "display_data"
    },
    {
     "data": {
      "application/vnd.jupyter.widget-view+json": {
       "model_id": "e1f0a6c05f0d478e8c424b48f11d887e",
       "version_major": 2,
       "version_minor": 0
      },
      "text/plain": [
       "HBox(children=(Label(value='Diametro tubería $(m)$:'), FloatSlider(value=1.0, max=5.0, min=1.0)))"
      ]
     },
     "metadata": {},
     "output_type": "display_data"
    },
    {
     "data": {
      "application/vnd.jupyter.widget-view+json": {
       "model_id": "ac82b3a05d6a4b358c6da6c15c6e43d9",
       "version_major": 2,
       "version_minor": 0
      },
      "text/plain": [
       "HBox(children=(Label(value='Tiempo llenado $(h)$:'), FloatSlider(value=1.0, max=10.0, min=1.0, step=0.01)))"
      ]
     },
     "metadata": {},
     "output_type": "display_data"
    },
    {
     "data": {
      "application/vnd.jupyter.widget-view+json": {
       "model_id": "7ffc4e0e0a434553abacc91e8ea68870",
       "version_major": 2,
       "version_minor": 0
      },
      "text/plain": [
       "HBox(children=(Label(value='Volumen a llenar $(m^3)$:'), FloatSlider(value=0.0, max=10.0, step=0.01)))"
      ]
     },
     "metadata": {},
     "output_type": "display_data"
    },
    {
     "data": {
      "application/vnd.jupyter.widget-view+json": {
       "model_id": "134270e62713488caac341d434ecd6f8",
       "version_major": 2,
       "version_minor": 0
      },
      "text/plain": [
       "HBox(children=(Label(value='Tiempo $(h)$:'), FloatSlider(value=0.0, max=1.0)))"
      ]
     },
     "metadata": {},
     "output_type": "display_data"
    },
    {
     "data": {
      "application/vnd.jupyter.widget-view+json": {
       "model_id": "a813d5f200204b4db7cc4e4d3d0f7583",
       "version_major": 2,
       "version_minor": 0
      },
      "text/plain": [
       "Play(value=0, max=1, step=0)"
      ]
     },
     "metadata": {},
     "output_type": "display_data"
    },
    {
     "data": {
      "application/vnd.jupyter.widget-view+json": {
       "model_id": "bd6a682f1a6546479010f57d1624cb8d",
       "version_major": 2,
       "version_minor": 0
      },
      "text/plain": [
       "Output()"
      ]
     },
     "metadata": {},
     "output_type": "display_data"
    }
   ],
   "source": [
    "graficas()"
   ]
  }
 ],
 "metadata": {
  "kernelspec": {
   "display_name": "Python 3",
   "language": "python",
   "name": "python3"
  },
  "language_info": {
   "codemirror_mode": {
    "name": "ipython",
    "version": 3
   },
   "file_extension": ".py",
   "mimetype": "text/x-python",
   "name": "python",
   "nbconvert_exporter": "python",
   "pygments_lexer": "ipython3",
   "version": "3.8.8"
  }
 },
 "nbformat": 4,
 "nbformat_minor": 5
}
