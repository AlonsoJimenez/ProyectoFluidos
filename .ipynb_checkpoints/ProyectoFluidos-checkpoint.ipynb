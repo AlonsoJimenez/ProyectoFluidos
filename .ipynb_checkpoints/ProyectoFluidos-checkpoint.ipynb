{
 "cells": [
  {
   "cell_type": "markdown",
   "id": "f42eb167",
   "metadata": {},
   "source": [
    "# Proyecto Fluidos"
   ]
  },
  {
   "cell_type": "code",
   "execution_count": 48,
   "id": "7d815167",
   "metadata": {},
   "outputs": [
    {
     "name": "stdout",
     "output_type": "stream",
     "text": [
      "Requirement already satisfied: fluids in c:\\users\\alons\\anaconda3\\lib\\site-packages (1.0.11)\n",
      "Requirement already satisfied: numpy>=1.5.0 in c:\\users\\alons\\anaconda3\\lib\\site-packages (from fluids) (1.20.1)\n",
      "Requirement already satisfied: scipy>=0.9.0 in c:\\users\\alons\\anaconda3\\lib\\site-packages (from fluids) (1.6.2)\n"
     ]
    },
    {
     "name": "stderr",
     "output_type": "stream",
     "text": [
      "Enabling notebook extension jupyter-js-widgets/extension...\n",
      "      - Validating: ok\n",
      "Enabling: voila\n",
      "- Writing config: C:\\Users\\alons\\anaconda3\\etc\\jupyter\n",
      "    - Validating...\n",
      "      voila 0.2.16 ok\n"
     ]
    }
   ],
   "source": [
    "import warnings\n",
    "warnings.filterwarnings('ignore')\n",
    "\n",
    "!pip install fluids\n",
    "!jupyter nbextension enable --py widgetsnbextension --sys-prefix\n",
    "!jupyter serverextension enable voila --sys-prefix\n",
    "\n",
    "from matplotlib import container\n",
    "from numpy.lib import info\n",
    "from IPython.display import HTML\n",
    "from IPython.display import display\n",
    "from ipywidgets import interactive\n",
    "import ipywidgets as widgets\n",
    "import numpy as np\n",
    "import math\n",
    "import fluids\n",
    "import matplotlib.pyplot as plt\n",
    "import matplotlib.patches as patches\n",
    "import matplotlib.image as img\n",
    "from matplotlib.offsetbox import  AnnotationBbox, OffsetImage\n",
    "\n",
    "\n",
    "\n",
    "tag = HTML('''<script>\n",
    "code_show=false; \n",
    "function code_toggle() {\n",
    "    if (code_show){\n",
    "        $('div.cell.code_cell.rendered.selected div.input').hide();\n",
    "    } else {\n",
    "        $('div.cell.code_cell.rendered.selected div.input').show();\n",
    "    }\n",
    "    code_show = !code_show\n",
    "} \n",
    "\n",
    "$( document ).ready(code_toggle);\n",
    "</script>\n",
    "\n",
    "Para mostrar/ocultar código presione <a href=\"javascript:code_toggle()\">aquí</a>.''')\n",
    "\n",
    "g = 9.81\n",
    "peso = 9780.57\n",
    "l = 36 + 22\n",
    "vis = 8.94E-7\n",
    "epsilon = 4.6E-5\n",
    "difAlturas = 22-2.5\n",
    "eficiencia = 0.65\n",
    "\n",
    "\n",
    "def hCodos(diametro, velocidad):\n",
    "    ft = 0\n",
    "    if(diametro == 12.7):\n",
    "        ft = 0.027\n",
    "    elif(diametro == 19.05):\n",
    "        ft = 0.025\n",
    "    elif(diametro == 25.4):\n",
    "        ft = 0.023\n",
    "    elif(diametro == 31.75):\n",
    "        ft = 0.022\n",
    "    elif(diametro == 38.1):\n",
    "        ft = 0.021\n",
    "    elif(diametro == 44.45):\n",
    "        ft = 0.02\n",
    "    elif(diametro == 50.8):\n",
    "        ft = 0.019\n",
    "    return (2*30*ft*velocidad**2)/(2*g)\n",
    "\n",
    "def Reynolds(velocidad, diametro):\n",
    "    diametro = diametro/1000\n",
    "    return velocidad*diametro/vis    \n",
    "\n",
    "def hTuberia(velocidad, diametro):\n",
    "    reynolds = Reynolds(velocidad, diametro)\n",
    "    diametro = diametro/1000\n",
    "    f = fluids.friction.friction_factor(Re=reynolds, eD=epsilon/diametro)\n",
    "    hl = f*(l/diametro)*((velocidad**2)/(2*g))\n",
    "    return hl\n",
    "\n",
    "def hEntradaSalida(velocidad):\n",
    "    return velocidad**2/(2*g)\n",
    "\n",
    "def hValvula(diametro, velocidad):\n",
    "    ft = 0\n",
    "    if(diametro == 12.7):\n",
    "        ft = 0.027\n",
    "    elif(diametro == 19.05):\n",
    "        ft = 0.025\n",
    "    elif(diametro == 25.4):\n",
    "        ft = 0.023\n",
    "    elif(diametro == 31.75):\n",
    "        ft = 0.022\n",
    "    elif(diametro == 38.1):\n",
    "        ft = 0.021\n",
    "    elif(diametro == 44.45):\n",
    "        ft = 0.02\n",
    "    elif(diametro == 50.8):\n",
    "        ft = 0.019\n",
    "    return 340*ft*velocidad**2/(2*g)\n",
    "\n",
    "def potencia(diametro, tiempoLlenado, volumen):\n",
    "    velocidad = velocidadCalculada(diametro/1000, volumen, tiempoLlenado)\n",
    "    caudal = volumen/tiempoLlenado\n",
    "    hc = hCodos(diametro, velocidad)\n",
    "    ht = hTuberia(velocidad, diametro)\n",
    "    hv = hValvula(diametro, velocidad)\n",
    "    hes = hEntradaSalida(velocidad)\n",
    "    ha = difAlturas + hc + ht + hes + hv\n",
    "    return (ha*peso*caudal)/eficiencia\n",
    "\n",
    "def velocidadCalculada(diametro, volumen, tiempoLlenado):\n",
    "    return (volumen/(tiempoLlenado))/(math.pi*(diametro/(2))**2)\n",
    "\n",
    "def volumenLlenado(volumen, tiempoLlenado, tiempo):\n",
    "    volumenL = tiempo*(volumen/tiempoLlenado)\n",
    "    return volumenL*100/volumen\n",
    "\n",
    "\n",
    "\n",
    "def graficas():\n",
    "    \n",
    "    display (tag)\n",
    "    \n",
    "    def GraficoInteractivoGeneral(diametro, vacas, tiempoLlenado, tiempo):\n",
    "\n",
    "      volumen = vacas*120/1000\n",
    "      tiempo = tiempo*3600  \n",
    "      tiempoLlenado = tiempoLlenado*3600\n",
    "\n",
    "      potProb = potencia(diametro, tiempoLlenado, volumen)\n",
    "      velProb = velocidadCalculada(diametro/1000, volumen, tiempoLlenado)\n",
    "      volProb = volumenLlenado(volumen, tiempoLlenado, tiempo)\n",
    "\n",
    "    \n",
    "\n",
    "      fig,(ax1, ax2, ax3) = plt.subplots (1, 3, figsize = (20,7), dpi= 120, sharex = True)\n",
    "\n",
    "      ax1.set_title('Potencia $(W)$ = '+str(potProb))\n",
    "      ax1.bar(['Valores del problema'], [potProb])\n",
    "      ax1.set_ylim([0, 750])  \n",
    "\n",
    "      ax2.set_title('Velocidad $(m/s)$ = '+str(velProb))\n",
    "      ax2.bar(['Valores del problema'], [velProb])\n",
    "      ax2.set_ylim([0, 10]) \n",
    "\n",
    "      ax3.set_title('Volumen llenado: '+str(volProb)+' %')\n",
    "      ax3.bar(['Valores del problema'], [volProb])\n",
    "      ax3.set_ylim([0, 100]) \n",
    "\n",
    "      plt.show()\n",
    "\n",
    "      return\n",
    "\n",
    "\n",
    "    diametroTuboEtiqueta = widgets.Label (value=\"Diametro nominal tubería $(mm)$:\")\n",
    "    diametroTuboSlider = widgets.FloatSlider(min=12.7, max=50.8, step=6.35, value=25.4)\n",
    "    cajaDiametroTubo = widgets.HBox([diametroTuboEtiqueta, diametroTuboSlider])\n",
    "\n",
    "    tiempoLlenadoEtiqueta = widgets.Label (value=\"Tiempo llenado $(h)$:\")\n",
    "    tiempoLlenadoSlider = widgets.FloatSlider(min=1, max=10, step=0.01, value=1.5)\n",
    "    cajaTiempoLlenado = widgets.HBox([tiempoLlenadoEtiqueta, tiempoLlenadoSlider])\n",
    "\n",
    "    vacasEtiqueta = widgets.Label (value=\"Cantidad vacas\")\n",
    "    vacasSlider = widgets.IntSlider(min=1, max=50, step=1, value=30)\n",
    "    cajaVacas = widgets.HBox([vacasEtiqueta, vacasSlider])\n",
    "\n",
    "    play = widgets.Play(value=0, min=0, max=tiempoLlenadoSlider.value, step=0.1, disabled=False)\n",
    "    tieEtiqueta = widgets.Label (value=\"Tiempo $(h)$:\")\n",
    "    tieSlider = widgets.FloatSlider(min=0, max=tiempoLlenadoSlider.value,)\n",
    "    widgets.jslink((play, 'value'), (tieSlider, 'value'))\n",
    "    cajaTiempo = widgets.HBox([tieEtiqueta, tieSlider])\n",
    "\n",
    "    salida = widgets.interactive_output(GraficoInteractivoGeneral, {'diametro':diametroTuboSlider,\n",
    "                                                                  'vacas':vacasSlider,\n",
    "                                                                  'tiempoLlenado': tiempoLlenadoSlider,\n",
    "                                                                  'tiempo':tieSlider})\n",
    "\n",
    "    display(cajaDiametroTubo, cajaTiempoLlenado, cajaVacas, cajaTiempo, play, salida)"
   ]
  },
  {
   "cell_type": "markdown",
   "id": "69c72094",
   "metadata": {},
   "source": [
    "## Estudiantes: "
   ]
  },
  {
   "cell_type": "markdown",
   "id": "0c9044a8",
   "metadata": {},
   "source": [
    "### Kevin Porras Alpízar (2019204781)"
   ]
  },
  {
   "cell_type": "markdown",
   "id": "ab448bd5",
   "metadata": {},
   "source": [
    "### Alejandro Huertas Sánchez (200833147)"
   ]
  },
  {
   "cell_type": "markdown",
   "id": "ac128d51",
   "metadata": {},
   "source": [
    "### Alonso Jiménez Moya (2019031476)"
   ]
  },
  {
   "cell_type": "markdown",
   "id": "66f851fa",
   "metadata": {},
   "source": [
    "### Fernando Monge Sánchez (2019160311)"
   ]
  },
  {
   "cell_type": "markdown",
   "id": "212c1704",
   "metadata": {},
   "source": [
    "El proyecto realizado por los estudiantes consta del siguiente enunciado principal sobre un sistema hidraulico con intención de brindar agua a una lechería para fines comerciales:\n",
    "\n",
    "\n",
    "Para el proyecto de Mecánica de Fluidos los estudiantes plantean realizar un diseño de un sistema hidráulico con la intención de dar solución a la necesidad de dotación de agua para una lechería que se encuentra a 22 m de altura sobre al tanque de agua potable y con una distancia horizontal de 36 m, para esto se deberá tomar en cuenta recomendaciones y reglamentos del CFIA. \n",
    "Se planteará un sistema hidráulico para una lechería que cuenta con 30 vacas en sus territorios, por tal se deberá calcular el caudal que requiere para su debido funcionamiento, según establece el “Código de instalaciones hidráulicas y sanitarias en edificaciones”. La necesidad de agua es equivalente a 120 litros diarios por animal, por tal motivo, la lechería deberá contar con un tanque de, mínimo, 3600 litros de capacidad, el cual será llenado diariamente por las madrugadas, específicamente hablando a las 2:30 am, y durará un aproximado de 4 horas para lograr completar los 3600 litros.\n",
    "Para la elaboración de este sistema, se necesitará de los siguientes materiales:\n",
    "\n",
    "\n",
    "•\t5 tubos PVC (3 de una longitud de 12 m y otros 2 de 11 m)\n",
    "\n",
    "•\t3 codos de 90° (Cambio de dirección del fluido)\n",
    "\n",
    "•\tBomba hidráulica (Encargada de suministrar la potencia al fluido)\n",
    "\n",
    "•\tVálvula de bola (Encargada de cerrar la tubería) \n",
    "\n",
    "![SegmentLocal](FotoProyecto.png)"
   ]
  },
  {
   "cell_type": "code",
   "execution_count": 49,
   "id": "d78f1b74",
   "metadata": {},
   "outputs": [
    {
     "data": {
      "text/html": [
       "<script>\n",
       "code_show=false; \n",
       "function code_toggle() {\n",
       "    if (code_show){\n",
       "        $('div.cell.code_cell.rendered.selected div.input').hide();\n",
       "    } else {\n",
       "        $('div.cell.code_cell.rendered.selected div.input').show();\n",
       "    }\n",
       "    code_show = !code_show\n",
       "} \n",
       "\n",
       "$( document ).ready(code_toggle);\n",
       "</script>\n",
       "\n",
       "Para mostrar/ocultar código presione <a href=\"javascript:code_toggle()\">aquí</a>."
      ],
      "text/plain": [
       "<IPython.core.display.HTML object>"
      ]
     },
     "metadata": {},
     "output_type": "display_data"
    },
    {
     "data": {
      "application/vnd.jupyter.widget-view+json": {
       "model_id": "7b08aea0adf54084aa4bcfffbaa969b5",
       "version_major": 2,
       "version_minor": 0
      },
      "text/plain": [
       "HBox(children=(Label(value='Diametro nominal tubería $(mm)$:'), FloatSlider(value=25.4, max=50.8, min=12.7, st…"
      ]
     },
     "metadata": {},
     "output_type": "display_data"
    },
    {
     "data": {
      "application/vnd.jupyter.widget-view+json": {
       "model_id": "f67b3ac384044a6086fcedb380f7877b",
       "version_major": 2,
       "version_minor": 0
      },
      "text/plain": [
       "HBox(children=(Label(value='Tiempo llenado $(h)$:'), FloatSlider(value=1.5, max=10.0, min=1.0, step=0.01)))"
      ]
     },
     "metadata": {},
     "output_type": "display_data"
    },
    {
     "data": {
      "application/vnd.jupyter.widget-view+json": {
       "model_id": "2bace3780dfd4a779a867ffe3c327eef",
       "version_major": 2,
       "version_minor": 0
      },
      "text/plain": [
       "HBox(children=(Label(value='Cantidad vacas'), IntSlider(value=30, max=50, min=1)))"
      ]
     },
     "metadata": {},
     "output_type": "display_data"
    },
    {
     "data": {
      "application/vnd.jupyter.widget-view+json": {
       "model_id": "32a4ab9059e143ed885414be62f32b8d",
       "version_major": 2,
       "version_minor": 0
      },
      "text/plain": [
       "HBox(children=(Label(value='Tiempo $(h)$:'), FloatSlider(value=0.0, max=1.5)))"
      ]
     },
     "metadata": {},
     "output_type": "display_data"
    },
    {
     "data": {
      "application/vnd.jupyter.widget-view+json": {
       "model_id": "201865a44d914d1fb9a166de7e4b04f7",
       "version_major": 2,
       "version_minor": 0
      },
      "text/plain": [
       "Play(value=0, max=1, step=0)"
      ]
     },
     "metadata": {},
     "output_type": "display_data"
    },
    {
     "data": {
      "application/vnd.jupyter.widget-view+json": {
       "model_id": "654e685c15b5406c89c930da847725e3",
       "version_major": 2,
       "version_minor": 0
      },
      "text/plain": [
       "Output()"
      ]
     },
     "metadata": {},
     "output_type": "display_data"
    }
   ],
   "source": [
    "graficas()"
   ]
  },
  {
   "cell_type": "code",
   "execution_count": null,
   "id": "2b3964ec",
   "metadata": {},
   "outputs": [],
   "source": []
  }
 ],
 "metadata": {
  "kernelspec": {
   "display_name": "Python 3",
   "language": "python",
   "name": "python3"
  },
  "language_info": {
   "codemirror_mode": {
    "name": "ipython",
    "version": 3
   },
   "file_extension": ".py",
   "mimetype": "text/x-python",
   "name": "python",
   "nbconvert_exporter": "python",
   "pygments_lexer": "ipython3",
   "version": "3.8.8"
  }
 },
 "nbformat": 4,
 "nbformat_minor": 5
}
