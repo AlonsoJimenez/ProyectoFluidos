{
 "cells": [
  {
   "cell_type": "code",
   "execution_count": 13,
   "id": "41bd300a",
   "metadata": {},
   "outputs": [
    {
     "name": "stdout",
     "output_type": "stream",
     "text": [
      "Requirement already satisfied: fluids in c:\\users\\alons\\anaconda3\\lib\\site-packages (1.0.11)\n",
      "Requirement already satisfied: scipy>=0.9.0 in c:\\users\\alons\\anaconda3\\lib\\site-packages (from fluids) (1.6.2)\n",
      "Requirement already satisfied: numpy>=1.5.0 in c:\\users\\alons\\anaconda3\\lib\\site-packages (from fluids) (1.20.1)\n",
      " \n",
      "0.0269152739875059\n",
      "\n",
      "4.307335010761792\n",
      "\n",
      "1.1996528395567516\n"
     ]
    }
   ],
   "source": [
    "!pip install fluids\n",
    "v = 1.2\n",
    "re = 35694.3686\n",
    "volumen = 3.6\n",
    "tiempoLlenado = 1.5*3600\n",
    "g = 9.81\n",
    "import fluids\n",
    "import math\n",
    "d = 0.0266\n",
    "epsilon = 4.6E-5 # m, clean steel\n",
    "x = fluids.friction.friction_factor(Re=35694.3686, eD=epsilon/d)\n",
    "print(\" \")\n",
    "print(x)\n",
    "print(\"\")\n",
    "hl = x*(58/d)*((v**2)/(2*g))\n",
    "print(hl)\n",
    "vel = (volumen/tiempoLlenado)/(math.pi*(d/2)**2)\n",
    "print(\"\")\n",
    "print(vel)\n"
   ]
  },
  {
   "cell_type": "code",
   "execution_count": null,
   "id": "10d7b49b",
   "metadata": {},
   "outputs": [],
   "source": []
  }
 ],
 "metadata": {
  "kernelspec": {
   "display_name": "Python 3",
   "language": "python",
   "name": "python3"
  },
  "language_info": {
   "codemirror_mode": {
    "name": "ipython",
    "version": 3
   },
   "file_extension": ".py",
   "mimetype": "text/x-python",
   "name": "python",
   "nbconvert_exporter": "python",
   "pygments_lexer": "ipython3",
   "version": "3.8.8"
  }
 },
 "nbformat": 4,
 "nbformat_minor": 5
}
